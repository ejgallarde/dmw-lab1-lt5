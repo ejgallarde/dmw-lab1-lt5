{
 "cells": [
  {
   "cell_type": "markdown",
   "id": "e31cf37c-b73a-4459-b41a-351433ba5a0b",
   "metadata": {},
   "source": [
    "# Grab Food Security / ‘From Plate to  State: Food Security ’ /\n"
   ]
  },
  {
   "cell_type": "markdown",
   "id": "7decb175-422e-4e8d-8e53-83ede62c5c95",
   "metadata": {},
   "source": [
    "## Problem Statement\n",
    "\n",
    "Our research endeavors to analyze a recipe dataset, aiming to identify the most frequently used ingredients, specifically the top 10. Subsequently, we seek to assess the availability of these ingredients in the Philippines and their reliance on imports. To achieve this, we will employ customs data to gauge the volume and value of imported food items on an annual scale by aggregating monthly data. This study's overarching objective is to provide informed insights to policymakers regarding the nation's food security and potential alternative sources for these essential ingredients. "
   ]
  },
  {
   "cell_type": "markdown",
   "id": "136276a5-3e76-4497-acfe-78f313ecdbdb",
   "metadata": {},
   "source": [
    "## Datasets\n",
    "\n",
    "<b>Recipe Ingredients Dataset</b> \n",
    "\n",
    "Recipe ingredients from Yummly \n",
    "\n",
    "https://www.kaggle.com/datasets/kaggle/recipe-ingredients-dataset \n",
    "\n",
    "\n",
    "<b>Customs imports</b> \n",
    "\n",
    "Report of import entries \n",
    "\n",
    "http://customs.gov.ph/import-reports/ "
   ]
  },
  {
   "cell_type": "code",
   "execution_count": null,
   "id": "933e90d3-fe73-4470-84c1-0ab8625e94f8",
   "metadata": {},
   "outputs": [],
   "source": [
    "print('Hello Denna!')"
   ]
  },
  {
   "cell_type": "code",
   "execution_count": null,
   "id": "91c13727-b094-4186-8817-de8ad821e324",
   "metadata": {},
   "outputs": [],
   "source": []
  }
 ],
 "metadata": {
  "kernelspec": {
   "display_name": "Python 3 (ipykernel)",
   "language": "python",
   "name": "python3"
  },
  "language_info": {
   "codemirror_mode": {
    "name": "ipython",
    "version": 3
   },
   "file_extension": ".py",
   "mimetype": "text/x-python",
   "name": "python",
   "nbconvert_exporter": "python",
   "pygments_lexer": "ipython3",
   "version": "3.10.12"
  }
 },
 "nbformat": 4,
 "nbformat_minor": 5
}
